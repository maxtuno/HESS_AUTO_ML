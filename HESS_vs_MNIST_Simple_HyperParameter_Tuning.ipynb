{
  "nbformat": 4,
  "nbformat_minor": 0,
  "metadata": {
    "colab": {
      "provenance": []
    },
    "kernelspec": {
      "name": "python3",
      "display_name": "Python 3"
    },
    "language_info": {
      "name": "python"
    }
  },
  "cells": [
    {
      "cell_type": "code",
      "execution_count": 5,
      "metadata": {
        "colab": {
          "base_uri": "https://localhost:8080/"
        },
        "id": "y7VOpOVwPpJC",
        "outputId": "9b82aecc-c276-4162-cd5f-587b7f219a48"
      },
      "outputs": [
        {
          "output_type": "stream",
          "name": "stdout",
          "text": [
            "Looking in indexes: https://pypi.org/simple, https://us-python.pkg.dev/colab-wheels/public/simple/\n",
            "Collecting satx\n",
            "  Downloading SATX-0.3.8.tar.gz (16 kB)\n",
            "  Preparing metadata (setup.py) ... \u001b[?25l\u001b[?25hdone\n",
            "Building wheels for collected packages: satx\n",
            "  Building wheel for satx (setup.py) ... \u001b[?25l\u001b[?25hdone\n",
            "  Created wheel for satx: filename=SATX-0.3.8-py3-none-any.whl size=19760 sha256=19ef2901b8444c8986d2fbf92087a140e29ed21f5b28a75d8970e55f87558633\n",
            "  Stored in directory: /root/.cache/pip/wheels/e4/fe/74/0e3f5376ea2f163471974f935a8f86989b4aab641aa6a8567c\n",
            "Successfully built satx\n",
            "Installing collected packages: satx\n",
            "Successfully installed satx-0.3.8\n"
          ]
        }
      ],
      "source": [
        "!pip install satx\n",
        "import tensorflow as tf\n",
        "import tensorflow_datasets as tfds\n",
        "import satx"
      ]
    },
    {
      "cell_type": "code",
      "source": [
        "(ds_train, ds_test), ds_info = tfds.load(\n",
        "    'mnist',\n",
        "    split=['train', 'test'],\n",
        "    shuffle_files=True,\n",
        "    as_supervised=True,\n",
        "    with_info=True,\n",
        ")"
      ],
      "metadata": {
        "id": "Gu7QNAc3PtHg"
      },
      "execution_count": 6,
      "outputs": []
    },
    {
      "cell_type": "code",
      "source": [
        "def normalize_img(image, label):\n",
        "  \"\"\"Normalizes images: `uint8` -> `float32`.\"\"\"\n",
        "  return tf.cast(image, tf.float32) / 255., label\n",
        "\n",
        "ds_train = ds_train.map(\n",
        "    normalize_img, num_parallel_calls=tf.data.AUTOTUNE)\n",
        "ds_train = ds_train.cache()\n",
        "ds_train = ds_train.shuffle(ds_info.splits['train'].num_examples)\n",
        "ds_train = ds_train.batch(128)\n",
        "ds_train = ds_train.prefetch(tf.data.AUTOTUNE)"
      ],
      "metadata": {
        "id": "b2sf8GXFYwAT"
      },
      "execution_count": 7,
      "outputs": []
    },
    {
      "cell_type": "code",
      "source": [
        "ds_test = ds_test.map(normalize_img, num_parallel_calls=tf.data.AUTOTUNE)\n",
        "ds_test = ds_test.batch(128)\n",
        "ds_test = ds_test.cache()\n",
        "ds_test = ds_test.prefetch(tf.data.AUTOTUNE)"
      ],
      "metadata": {
        "id": "PrnVDXHzYz6Y"
      },
      "execution_count": 8,
      "outputs": []
    },
    {
      "cell_type": "code",
      "source": [
        "def oracle(seq): \n",
        "\n",
        "    units = sum([1 << i for i, bit in enumerate(seq) if bit == 1])\n",
        "\n",
        "    model = tf.keras.models.Sequential()\n",
        "    model.add(tf.keras.layers.Flatten(input_shape=(28, 28)))\n",
        "    model.add(tf.keras.layers.Dense(units=units, activation=tf.keras.activations.relu),)\n",
        "    model.add(tf.keras.layers.Dense(units=10, activation=tf.keras.activations.softmax))\n",
        "    \n",
        "    model.compile(\n",
        "        optimizer=tf.keras.optimizers.Adam(0.001),\n",
        "        loss=tf.keras.losses.SparseCategoricalCrossentropy(from_logits=True),\n",
        "        metrics=[tf.keras.metrics.SparseCategoricalAccuracy()],\n",
        "    )\n",
        "\n",
        "    model.fit(ds_train, epochs=1)\n",
        "    \n",
        "    result = model.evaluate(ds_test)\n",
        "\n",
        "    del model\n",
        "\n",
        "    print('ORACLE: {} - {}'.format(result, units))\n",
        "\n",
        "    return result[0] # loss"
      ],
      "metadata": {
        "id": "cYPYDUiyPuWR"
      },
      "execution_count": 13,
      "outputs": []
    },
    {
      "cell_type": "code",
      "source": [
        "seq = satx.hess_binary(n=10, oracle=oracle)\n",
        "print(seq)"
      ],
      "metadata": {
        "colab": {
          "base_uri": "https://localhost:8080/"
        },
        "id": "fXxu_ir7PzWq",
        "outputId": "dbdfacd8-80da-4eaf-eef7-9f39ed8c67ed"
      },
      "execution_count": 14,
      "outputs": [
        {
          "output_type": "stream",
          "name": "stderr",
          "text": [
            "/usr/local/lib/python3.8/dist-packages/tensorflow/python/util/dispatch.py:1082: UserWarning: \"`sparse_categorical_crossentropy` received `from_logits=True`, but the `output` argument was produced by a sigmoid or softmax activation and thus does not represent logits. Was this intended?\"\n",
            "  return dispatch_target(*args, **kwargs)\n"
          ]
        },
        {
          "output_type": "stream",
          "name": "stdout",
          "text": [
            "469/469 [==============================] - 2s 3ms/step - loss: 2.1100 - sparse_categorical_accuracy: 0.2091\n",
            "79/79 [==============================] - 0s 2ms/step - loss: 2.0215 - sparse_categorical_accuracy: 0.2301\n",
            "ORACLE: [2.0215306282043457, 0.23010000586509705] - 1\n",
            "469/469 [==============================] - 2s 3ms/step - loss: 1.7547 - sparse_categorical_accuracy: 0.3796\n",
            "79/79 [==============================] - 0s 2ms/step - loss: 1.4003 - sparse_categorical_accuracy: 0.5499\n",
            "ORACLE: [1.4002909660339355, 0.5498999953269958] - 3\n",
            "469/469 [==============================] - 2s 4ms/step - loss: 1.0755 - sparse_categorical_accuracy: 0.6581\n",
            "79/79 [==============================] - 0s 2ms/step - loss: 0.4994 - sparse_categorical_accuracy: 0.8602\n",
            "ORACLE: [0.4994032680988312, 0.8601999878883362] - 7\n",
            "469/469 [==============================] - 2s 4ms/step - loss: 0.6710 - sparse_categorical_accuracy: 0.8089\n",
            "79/79 [==============================] - 0s 2ms/step - loss: 0.3280 - sparse_categorical_accuracy: 0.9108\n",
            "ORACLE: [0.3279992341995239, 0.9107999801635742] - 15\n",
            "469/469 [==============================] - 2s 4ms/step - loss: 0.5156 - sparse_categorical_accuracy: 0.8590\n",
            "79/79 [==============================] - 0s 2ms/step - loss: 0.2828 - sparse_categorical_accuracy: 0.9201\n",
            "ORACLE: [0.28281930088996887, 0.9200999736785889] - 31\n",
            "469/469 [==============================] - 2s 4ms/step - loss: 0.4236 - sparse_categorical_accuracy: 0.8865\n",
            "79/79 [==============================] - 0s 3ms/step - loss: 0.2261 - sparse_categorical_accuracy: 0.9378\n",
            "ORACLE: [0.2260565608739853, 0.9377999901771545] - 63\n",
            "469/469 [==============================] - 3s 5ms/step - loss: 0.3633 - sparse_categorical_accuracy: 0.8997\n",
            "79/79 [==============================] - 0s 3ms/step - loss: 0.1924 - sparse_categorical_accuracy: 0.9442\n",
            "ORACLE: [0.19240383803844452, 0.9441999793052673] - 127\n",
            "469/469 [==============================] - 3s 6ms/step - loss: 0.3091 - sparse_categorical_accuracy: 0.9130\n",
            "79/79 [==============================] - 0s 4ms/step - loss: 0.1658 - sparse_categorical_accuracy: 0.9519\n",
            "ORACLE: [0.16583655774593353, 0.9519000053405762] - 255\n",
            "469/469 [==============================] - 5s 10ms/step - loss: 0.2677 - sparse_categorical_accuracy: 0.9238\n",
            "79/79 [==============================] - 1s 5ms/step - loss: 0.1379 - sparse_categorical_accuracy: 0.9614\n",
            "ORACLE: [0.13785870373249054, 0.9613999724388123] - 511\n",
            "469/469 [==============================] - 8s 16ms/step - loss: 0.2335 - sparse_categorical_accuracy: 0.9328\n",
            "79/79 [==============================] - 1s 8ms/step - loss: 0.1227 - sparse_categorical_accuracy: 0.9628\n",
            "ORACLE: [0.1226697787642479, 0.9628000259399414] - 1023\n",
            "469/469 [==============================] - 8s 17ms/step - loss: 0.2340 - sparse_categorical_accuracy: 0.9322\n",
            "79/79 [==============================] - 1s 8ms/step - loss: 0.1222 - sparse_categorical_accuracy: 0.9629\n",
            "ORACLE: [0.12217945605516434, 0.9628999829292297] - 1022\n",
            "469/469 [==============================] - 9s 18ms/step - loss: 0.2359 - sparse_categorical_accuracy: 0.9328\n",
            "79/79 [==============================] - 2s 13ms/step - loss: 0.1292 - sparse_categorical_accuracy: 0.9627\n",
            "ORACLE: [0.12919802963733673, 0.9627000093460083] - 1020\n",
            "469/469 [==============================] - 10s 20ms/step - loss: 0.2328 - sparse_categorical_accuracy: 0.9328\n",
            "79/79 [==============================] - 1s 9ms/step - loss: 0.1148 - sparse_categorical_accuracy: 0.9641\n",
            "ORACLE: [0.11480307579040527, 0.9641000032424927] - 1018\n",
            "469/469 [==============================] - 9s 19ms/step - loss: 0.2371 - sparse_categorical_accuracy: 0.9317\n",
            "79/79 [==============================] - 1s 8ms/step - loss: 0.1168 - sparse_categorical_accuracy: 0.9657\n",
            "ORACLE: [0.11682767421007156, 0.9656999707221985] - 1010\n",
            "469/469 [==============================] - 8s 16ms/step - loss: 0.2349 - sparse_categorical_accuracy: 0.9323\n",
            "79/79 [==============================] - 1s 8ms/step - loss: 0.1115 - sparse_categorical_accuracy: 0.9681\n",
            "ORACLE: [0.11152411997318268, 0.9681000113487244] - 1002\n",
            "469/469 [==============================] - 8s 16ms/step - loss: 0.2378 - sparse_categorical_accuracy: 0.9318\n",
            "79/79 [==============================] - 1s 7ms/step - loss: 0.1129 - sparse_categorical_accuracy: 0.9657\n",
            "ORACLE: [0.11286627501249313, 0.9656999707221985] - 970\n",
            "469/469 [==============================] - 7s 15ms/step - loss: 0.2389 - sparse_categorical_accuracy: 0.9310\n",
            "79/79 [==============================] - 1s 7ms/step - loss: 0.1266 - sparse_categorical_accuracy: 0.9619\n",
            "ORACLE: [0.12660139799118042, 0.961899995803833] - 938\n",
            "469/469 [==============================] - 7s 14ms/step - loss: 0.2435 - sparse_categorical_accuracy: 0.9305\n",
            "79/79 [==============================] - 1s 8ms/step - loss: 0.1189 - sparse_categorical_accuracy: 0.9659\n",
            "ORACLE: [0.11887674778699875, 0.9659000039100647] - 874\n",
            "469/469 [==============================] - 6s 13ms/step - loss: 0.2532 - sparse_categorical_accuracy: 0.9275\n",
            "79/79 [==============================] - 1s 8ms/step - loss: 0.1339 - sparse_categorical_accuracy: 0.9615\n",
            "ORACLE: [0.13390512764453888, 0.9614999890327454] - 746\n",
            "469/469 [==============================] - 5s 10ms/step - loss: 0.2732 - sparse_categorical_accuracy: 0.9232\n",
            "79/79 [==============================] - 1s 6ms/step - loss: 0.1397 - sparse_categorical_accuracy: 0.9597\n",
            "ORACLE: [0.13966648280620575, 0.9596999883651733] - 490\n",
            "469/469 [==============================] - 8s 16ms/step - loss: 0.2354 - sparse_categorical_accuracy: 0.9327\n",
            "79/79 [==============================] - 1s 7ms/step - loss: 0.1243 - sparse_categorical_accuracy: 0.9631\n",
            "ORACLE: [0.12426885962486267, 0.963100016117096] - 1003\n",
            "469/469 [==============================] - 8s 17ms/step - loss: 0.2364 - sparse_categorical_accuracy: 0.9315\n",
            "79/79 [==============================] - 1s 9ms/step - loss: 0.1251 - sparse_categorical_accuracy: 0.9613\n",
            "ORACLE: [0.1250678300857544, 0.9613000154495239] - 1001\n",
            "469/469 [==============================] - 9s 17ms/step - loss: 0.2339 - sparse_categorical_accuracy: 0.9328\n",
            "79/79 [==============================] - 1s 7ms/step - loss: 0.1088 - sparse_categorical_accuracy: 0.9681\n",
            "ORACLE: [0.10878975689411163, 0.9681000113487244] - 1007\n",
            "469/469 [==============================] - 8s 17ms/step - loss: 0.2377 - sparse_categorical_accuracy: 0.9311\n",
            "79/79 [==============================] - 1s 8ms/step - loss: 0.1238 - sparse_categorical_accuracy: 0.9623\n",
            "ORACLE: [0.12383365631103516, 0.9623000025749207] - 999\n",
            "469/469 [==============================] - 9s 18ms/step - loss: 0.2364 - sparse_categorical_accuracy: 0.9318\n",
            "79/79 [==============================] - 1s 8ms/step - loss: 0.1134 - sparse_categorical_accuracy: 0.9661\n",
            "ORACLE: [0.1133781373500824, 0.9660999774932861] - 1023\n",
            "469/469 [==============================] - 8s 16ms/step - loss: 0.2400 - sparse_categorical_accuracy: 0.9320\n",
            "79/79 [==============================] - 1s 7ms/step - loss: 0.1248 - sparse_categorical_accuracy: 0.9601\n",
            "ORACLE: [0.12480953335762024, 0.960099995136261] - 975\n",
            "469/469 [==============================] - 8s 16ms/step - loss: 0.2391 - sparse_categorical_accuracy: 0.9306\n",
            "79/79 [==============================] - 1s 8ms/step - loss: 0.1146 - sparse_categorical_accuracy: 0.9644\n",
            "ORACLE: [0.11458845436573029, 0.9643999934196472] - 943\n",
            "469/469 [==============================] - 8s 15ms/step - loss: 0.2433 - sparse_categorical_accuracy: 0.9304\n",
            "79/79 [==============================] - 1s 8ms/step - loss: 0.1173 - sparse_categorical_accuracy: 0.9646\n",
            "ORACLE: [0.11726109683513641, 0.9646000266075134] - 879\n",
            "469/469 [==============================] - 7s 14ms/step - loss: 0.2509 - sparse_categorical_accuracy: 0.9280\n",
            "79/79 [==============================] - 1s 6ms/step - loss: 0.1208 - sparse_categorical_accuracy: 0.9636\n",
            "ORACLE: [0.12077033519744873, 0.9635999798774719] - 751\n",
            "469/469 [==============================] - 5s 11ms/step - loss: 0.2673 - sparse_categorical_accuracy: 0.9245\n",
            "79/79 [==============================] - 1s 6ms/step - loss: 0.1378 - sparse_categorical_accuracy: 0.9592\n",
            "ORACLE: [0.13780346512794495, 0.9592000246047974] - 495\n",
            "469/469 [==============================] - 9s 17ms/step - loss: 0.2340 - sparse_categorical_accuracy: 0.9320\n",
            "79/79 [==============================] - 1s 9ms/step - loss: 0.1255 - sparse_categorical_accuracy: 0.9602\n",
            "ORACLE: [0.12548817694187164, 0.9602000117301941] - 1006\n",
            "469/469 [==============================] - 8s 16ms/step - loss: 0.2386 - sparse_categorical_accuracy: 0.9309\n",
            "79/79 [==============================] - 1s 8ms/step - loss: 0.1202 - sparse_categorical_accuracy: 0.9637\n",
            "ORACLE: [0.12020590901374817, 0.963699996471405] - 1004\n",
            "469/469 [==============================] - 8s 17ms/step - loss: 0.2385 - sparse_categorical_accuracy: 0.9317\n",
            "79/79 [==============================] - 1s 8ms/step - loss: 0.1195 - sparse_categorical_accuracy: 0.9638\n",
            "ORACLE: [0.11947935819625854, 0.9638000130653381] - 1000\n",
            "469/469 [==============================] - 8s 16ms/step - loss: 0.2383 - sparse_categorical_accuracy: 0.9320\n",
            "79/79 [==============================] - 1s 7ms/step - loss: 0.1204 - sparse_categorical_accuracy: 0.9640\n",
            "ORACLE: [0.12036243826150894, 0.9639999866485596] - 992\n",
            "469/469 [==============================] - 8s 16ms/step - loss: 0.2348 - sparse_categorical_accuracy: 0.9324\n",
            "79/79 [==============================] - 1s 7ms/step - loss: 0.1219 - sparse_categorical_accuracy: 0.9645\n",
            "ORACLE: [0.12191164493560791, 0.9645000100135803] - 1016\n",
            "469/469 [==============================] - 8s 16ms/step - loss: 0.2377 - sparse_categorical_accuracy: 0.9315\n",
            "79/79 [==============================] - 1s 8ms/step - loss: 0.1182 - sparse_categorical_accuracy: 0.9652\n",
            "ORACLE: [0.11815749853849411, 0.9652000069618225] - 968\n",
            "469/469 [==============================] - 7s 15ms/step - loss: 0.2402 - sparse_categorical_accuracy: 0.9304\n",
            "79/79 [==============================] - 1s 7ms/step - loss: 0.1221 - sparse_categorical_accuracy: 0.9631\n",
            "ORACLE: [0.12207811325788498, 0.963100016117096] - 904\n",
            "469/469 [==============================] - 7s 14ms/step - loss: 0.2472 - sparse_categorical_accuracy: 0.9295\n",
            "79/79 [==============================] - 1s 7ms/step - loss: 0.1291 - sparse_categorical_accuracy: 0.9609\n",
            "ORACLE: [0.12908467650413513, 0.9609000086784363] - 840\n",
            "469/469 [==============================] - 6s 13ms/step - loss: 0.2532 - sparse_categorical_accuracy: 0.9281\n",
            "79/79 [==============================] - 1s 7ms/step - loss: 0.1320 - sparse_categorical_accuracy: 0.9600\n",
            "ORACLE: [0.13199792802333832, 0.9599999785423279] - 712\n",
            "469/469 [==============================] - 5s 10ms/step - loss: 0.2759 - sparse_categorical_accuracy: 0.9226\n",
            "79/79 [==============================] - 1s 5ms/step - loss: 0.1390 - sparse_categorical_accuracy: 0.9605\n",
            "ORACLE: [0.13898898661136627, 0.9605000019073486] - 456\n",
            "[True, True, True, True, False, True, True, True, True, True]\n"
          ]
        }
      ]
    },
    {
      "cell_type": "code",
      "source": [
        "units = sum([1 << i for i, bit in enumerate(seq) if bit == 1])\n",
        "\n",
        "model = tf.keras.models.Sequential()\n",
        "model.add(tf.keras.layers.Flatten(input_shape=(28, 28)))\n",
        "model.add(tf.keras.layers.Dense(units=units, activation=tf.keras.activations.relu),)\n",
        "model.add(tf.keras.layers.Dense(units=10, activation=tf.keras.activations.softmax))\n",
        "\n",
        "model.compile(\n",
        "    optimizer=tf.keras.optimizers.Adam(0.001),\n",
        "    loss=tf.keras.losses.SparseCategoricalCrossentropy(from_logits=True),\n",
        "    metrics=[tf.keras.metrics.SparseCategoricalAccuracy()],\n",
        ")\n",
        "model.fit(ds_train, epochs=10)\n",
        "\n",
        "result = model.evaluate(ds_test)"
      ],
      "metadata": {
        "colab": {
          "base_uri": "https://localhost:8080/"
        },
        "id": "bhhnzcZkP2E3",
        "outputId": "ffb716d6-e986-4806-d2b7-c57dc57792ee"
      },
      "execution_count": 15,
      "outputs": [
        {
          "output_type": "stream",
          "name": "stdout",
          "text": [
            "Epoch 1/10\n",
            "469/469 [==============================] - 12s 22ms/step - loss: 0.2326 - sparse_categorical_accuracy: 0.9341\n",
            "Epoch 2/10\n",
            "469/469 [==============================] - 9s 18ms/step - loss: 0.0887 - sparse_categorical_accuracy: 0.9739\n",
            "Epoch 3/10\n",
            "469/469 [==============================] - 7s 16ms/step - loss: 0.0565 - sparse_categorical_accuracy: 0.9831\n",
            "Epoch 4/10\n",
            "469/469 [==============================] - 7s 16ms/step - loss: 0.0385 - sparse_categorical_accuracy: 0.9884\n",
            "Epoch 5/10\n",
            "469/469 [==============================] - 8s 16ms/step - loss: 0.0262 - sparse_categorical_accuracy: 0.9922\n",
            "Epoch 6/10\n",
            "469/469 [==============================] - 8s 17ms/step - loss: 0.0194 - sparse_categorical_accuracy: 0.9944\n",
            "Epoch 7/10\n",
            "469/469 [==============================] - 8s 18ms/step - loss: 0.0142 - sparse_categorical_accuracy: 0.9958\n",
            "Epoch 8/10\n",
            "469/469 [==============================] - 8s 18ms/step - loss: 0.0097 - sparse_categorical_accuracy: 0.9979\n",
            "Epoch 9/10\n",
            "469/469 [==============================] - 9s 18ms/step - loss: 0.0082 - sparse_categorical_accuracy: 0.9980\n",
            "Epoch 10/10\n",
            "469/469 [==============================] - 8s 16ms/step - loss: 0.0100 - sparse_categorical_accuracy: 0.9970\n",
            "79/79 [==============================] - 1s 8ms/step - loss: 0.0694 - sparse_categorical_accuracy: 0.9810\n"
          ]
        }
      ]
    },
    {
      "cell_type": "code",
      "source": [
        "result"
      ],
      "metadata": {
        "colab": {
          "base_uri": "https://localhost:8080/"
        },
        "id": "VyZ42hliba13",
        "outputId": "860c5854-5d52-4ea7-c3c7-750d00644785"
      },
      "execution_count": 16,
      "outputs": [
        {
          "output_type": "execute_result",
          "data": {
            "text/plain": [
              "[0.0693831592798233, 0.9810000061988831]"
            ]
          },
          "metadata": {},
          "execution_count": 16
        }
      ]
    },
    {
      "cell_type": "code",
      "source": [
        "units"
      ],
      "metadata": {
        "colab": {
          "base_uri": "https://localhost:8080/"
        },
        "id": "aUt6cokub4ue",
        "outputId": "a058b35b-0694-4620-b2b0-a2e740525d5d"
      },
      "execution_count": 17,
      "outputs": [
        {
          "output_type": "execute_result",
          "data": {
            "text/plain": [
              "1007"
            ]
          },
          "metadata": {},
          "execution_count": 17
        }
      ]
    },
    {
      "cell_type": "code",
      "source": [],
      "metadata": {
        "id": "jJAp3Puab8Q6"
      },
      "execution_count": null,
      "outputs": []
    }
  ]
}